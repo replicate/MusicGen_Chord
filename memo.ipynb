{
 "cells": [
  {
   "cell_type": "code",
   "execution_count": 1,
   "metadata": {},
   "outputs": [],
   "source": [
    "%load_ext autoreload\n",
    "%autoreload 2"
   ]
  },
  {
   "cell_type": "code",
   "execution_count": 17,
   "metadata": {},
   "outputs": [],
   "source": [
    "from audiocraft.models import MusicGen\n",
    "from audiocraft.models import LMModel\n",
    "from audiocraft.modules.conditioners import WavCondition, ChromaChordConditioner\n",
    "from audiocraft.modules.chord_chroma import ChordExtractor"
   ]
  },
  {
   "cell_type": "code",
   "execution_count": 7,
   "metadata": {},
   "outputs": [],
   "source": [
    "import torch, torchaudio\n",
    "import pandas as pd\n",
    "from pathlib import Path\n",
    "import matplotlib.pyplot as plt"
   ]
  },
  {
   "cell_type": "code",
   "execution_count": 8,
   "metadata": {},
   "outputs": [],
   "source": [
    "loaded = torch.load(\"/home/sake/audiocraft/state_dict_MusicGen_Melody.bin\")"
   ]
  },
  {
   "cell_type": "code",
   "execution_count": 9,
   "metadata": {},
   "outputs": [],
   "source": [
    "model = MusicGen.get_pretrained('facebook/musicgen-melody')"
   ]
  },
  {
   "cell_type": "code",
   "execution_count": 10,
   "metadata": {},
   "outputs": [
    {
     "data": {
      "text/plain": [
       "LMModel(\n",
       "  (cfg_dropout): ClassifierFreeGuidanceDropout(p=0.2)\n",
       "  (att_dropout): AttributeDropout({'args': defaultdict(<function AttributeDropout.__init__.<locals>.<lambda> at 0x7f856c370ee0>, {'active_on_eval': False}), 'text': defaultdict(<function AttributeDropout.__init__.<locals>.<lambda> at 0x7f84d6661ee0>, {}), 'wav': defaultdict(<function AttributeDropout.__init__.<locals>.<lambda> at 0x7f84d66618b0>, {'self_wav': 0.5})})\n",
       "  (condition_provider): ConditioningProvider(\n",
       "    (conditioners): ModuleDict(\n",
       "      (self_wav): ChromaStemConditioner(\n",
       "        (output_proj): Linear(in_features=12, out_features=1536, bias=True)\n",
       "        (chroma): ChromaExtractor(\n",
       "          (spec): Spectrogram()\n",
       "        )\n",
       "      )\n",
       "      (description): T5Conditioner(\n",
       "        (output_proj): Linear(in_features=768, out_features=1536, bias=True)\n",
       "      )\n",
       "    )\n",
       "  )\n",
       "  (fuser): ConditionFuser()\n",
       "  (emb): ModuleList(\n",
       "    (0-3): 4 x ScaledEmbedding(2049, 1536)\n",
       "  )\n",
       "  (transformer): StreamingTransformer(\n",
       "    (layers): ModuleList(\n",
       "      (0-47): 48 x StreamingTransformerLayer(\n",
       "        (self_attn): StreamingMultiheadAttention(\n",
       "          (out_proj): Linear(in_features=1536, out_features=1536, bias=False)\n",
       "        )\n",
       "        (linear1): Linear(in_features=1536, out_features=6144, bias=False)\n",
       "        (dropout): Dropout(p=0.0, inplace=False)\n",
       "        (linear2): Linear(in_features=6144, out_features=1536, bias=False)\n",
       "        (norm1): LayerNorm((1536,), eps=1e-05, elementwise_affine=True)\n",
       "        (norm2): LayerNorm((1536,), eps=1e-05, elementwise_affine=True)\n",
       "        (dropout1): Dropout(p=0.0, inplace=False)\n",
       "        (dropout2): Dropout(p=0.0, inplace=False)\n",
       "        (layer_scale_1): Identity()\n",
       "        (layer_scale_2): Identity()\n",
       "      )\n",
       "    )\n",
       "  )\n",
       "  (out_norm): LayerNorm((1536,), eps=1e-05, elementwise_affine=True)\n",
       "  (linears): ModuleList(\n",
       "    (0-3): 4 x Linear(in_features=1536, out_features=2048, bias=False)\n",
       "  )\n",
       ")"
      ]
     },
     "execution_count": 10,
     "metadata": {},
     "output_type": "execute_result"
    }
   ],
   "source": [
    "model.lm"
   ]
  },
  {
   "cell_type": "code",
   "execution_count": 16,
   "metadata": {},
   "outputs": [
    {
     "ename": "AttributeError",
     "evalue": "'ChromaExtractor' object has no attribute 'attribute'",
     "output_type": "error",
     "traceback": [
      "\u001b[0;31m---------------------------------------------------------------------------\u001b[0m",
      "\u001b[0;31mAttributeError\u001b[0m                            Traceback (most recent call last)",
      "Cell \u001b[0;32mIn[16], line 1\u001b[0m\n\u001b[0;32m----> 1\u001b[0m model\u001b[39m.\u001b[39;49mlm\u001b[39m.\u001b[39;49mcondition_provider\u001b[39m.\u001b[39;49mconditioners\u001b[39m.\u001b[39;49mself_wav\u001b[39m.\u001b[39;49mchroma\u001b[39m.\u001b[39;49mattribute\n",
      "File \u001b[0;32m~/.local/share/virtualenvs/audiocraft-yxa8GELE/lib/python3.8/site-packages/torch/nn/modules/module.py:1614\u001b[0m, in \u001b[0;36mModule.__getattr__\u001b[0;34m(self, name)\u001b[0m\n\u001b[1;32m   1612\u001b[0m     \u001b[39mif\u001b[39;00m name \u001b[39min\u001b[39;00m modules:\n\u001b[1;32m   1613\u001b[0m         \u001b[39mreturn\u001b[39;00m modules[name]\n\u001b[0;32m-> 1614\u001b[0m \u001b[39mraise\u001b[39;00m \u001b[39mAttributeError\u001b[39;00m(\u001b[39m\"\u001b[39m\u001b[39m'\u001b[39m\u001b[39m{}\u001b[39;00m\u001b[39m'\u001b[39m\u001b[39m object has no attribute \u001b[39m\u001b[39m'\u001b[39m\u001b[39m{}\u001b[39;00m\u001b[39m'\u001b[39m\u001b[39m\"\u001b[39m\u001b[39m.\u001b[39mformat(\n\u001b[1;32m   1615\u001b[0m     \u001b[39mtype\u001b[39m(\u001b[39mself\u001b[39m)\u001b[39m.\u001b[39m\u001b[39m__name__\u001b[39m, name))\n",
      "\u001b[0;31mAttributeError\u001b[0m: 'ChromaExtractor' object has no attribute 'attribute'"
     ]
    }
   ],
   "source": [
    "model.lm.condition_provider.conditioners.self_wav.chroma."
   ]
  },
  {
   "cell_type": "code",
   "execution_count": 24,
   "metadata": {},
   "outputs": [],
   "source": [
    "model.lm.condition_provider.conditioners.self_wav.chroma = ChordExtractor('cuda', 32000, 30, 235, 12)"
   ]
  },
  {
   "cell_type": "code",
   "execution_count": null,
   "metadata": {},
   "outputs": [],
   "source": []
  },
  {
   "cell_type": "code",
   "execution_count": 6,
   "metadata": {},
   "outputs": [],
   "source": [
    "wav = torchaudio.load('/mnt/nvme/MSD_INST_vocalless/mdx_extra/1/0/1021.clip.wav')"
   ]
  },
  {
   "cell_type": "code",
   "execution_count": 7,
   "metadata": {},
   "outputs": [
    {
     "data": {
      "text/plain": [
       "torch.Size([2, 961307])"
      ]
     },
     "execution_count": 7,
     "metadata": {},
     "output_type": "execute_result"
    }
   ],
   "source": [
    "wav[0].shape"
   ]
  },
  {
   "cell_type": "code",
   "execution_count": 8,
   "metadata": {},
   "outputs": [
    {
     "data": {
      "text/plain": [
       "32000"
      ]
     },
     "execution_count": 8,
     "metadata": {},
     "output_type": "execute_result"
    }
   ],
   "source": [
    "sr = wav[1]\n",
    "sr"
   ]
  },
  {
   "cell_type": "code",
   "execution_count": 9,
   "metadata": {},
   "outputs": [
    {
     "data": {
      "text/plain": [
       "torch.Size([2, 960000])"
      ]
     },
     "execution_count": 9,
     "metadata": {},
     "output_type": "execute_result"
    }
   ],
   "source": [
    "audio = wav[0][:,654:961307-653]\n",
    "audio.shape"
   ]
  },
  {
   "cell_type": "code",
   "execution_count": 10,
   "metadata": {},
   "outputs": [],
   "source": [
    "wavcon = WavCondition(audio[None].to('cuda'), torch.tensor([audio.shape[-1]]), sample_rate=[sr], path=[None],)"
   ]
  },
  {
   "cell_type": "code",
   "execution_count": 11,
   "metadata": {},
   "outputs": [
    {
     "data": {
      "text/plain": [
       "WavCondition(wav=tensor([[[ 1.4954e-03,  7.6294e-04, -5.4932e-04,  ..., -2.7466e-04,\n",
       "          -4.2725e-04, -6.1035e-05],\n",
       "         [ 1.2207e-03, -4.8828e-04, -2.4719e-03,  ..., -1.8311e-04,\n",
       "          -3.9673e-04,  6.1035e-05]]], device='cuda:0'), length=tensor([960000]), sample_rate=[32000], path=[None], seek_time=[])"
      ]
     },
     "execution_count": 11,
     "metadata": {},
     "output_type": "execute_result"
    }
   ],
   "source": [
    "wavcon"
   ]
  },
  {
   "cell_type": "code",
   "execution_count": 12,
   "metadata": {},
   "outputs": [
    {
     "data": {
      "text/plain": [
       "ConditioningProvider(\n",
       "  (conditioners): ModuleDict(\n",
       "    (self_wav): ChromaStemConditioner(\n",
       "      (output_proj): Linear(in_features=12, out_features=1536, bias=True)\n",
       "      (chroma): ChromaExtractor(\n",
       "        (spec): Spectrogram()\n",
       "      )\n",
       "    )\n",
       "    (description): T5Conditioner(\n",
       "      (output_proj): Linear(in_features=768, out_features=1536, bias=True)\n",
       "    )\n",
       "  )\n",
       ")"
      ]
     },
     "execution_count": 12,
     "metadata": {},
     "output_type": "execute_result"
    }
   ],
   "source": [
    "model.lm.condition_provider"
   ]
  },
  {
   "cell_type": "code",
   "execution_count": 13,
   "metadata": {},
   "outputs": [],
   "source": [
    "import demucs"
   ]
  },
  {
   "cell_type": "code",
   "execution_count": 14,
   "metadata": {},
   "outputs": [
    {
     "data": {
      "text/plain": [
       "1"
      ]
     },
     "execution_count": 14,
     "metadata": {},
     "output_type": "execute_result"
    }
   ],
   "source": [
    "model.lm.condition_provider.conditioners.self_wav.demucs.sources.index('bass')"
   ]
  },
  {
   "cell_type": "code",
   "execution_count": 15,
   "metadata": {},
   "outputs": [
    {
     "data": {
      "text/plain": [
       "2"
      ]
     },
     "execution_count": 15,
     "metadata": {},
     "output_type": "execute_result"
    }
   ],
   "source": [
    "model.lm.condition_provider.conditioners.self_wav.demucs.sources.index('other')"
   ]
  },
  {
   "cell_type": "code",
   "execution_count": 16,
   "metadata": {},
   "outputs": [],
   "source": [
    "model.lm.condition_provider.conditioners.self_wav.stem_indices = torch.LongTensor([model.lm.condition_provider.conditioners.self_wav.demucs.sources.index('bass'), model.lm.condition_provider.conditioners.self_wav.demucs.sources.index('other')]).to('cuda')"
   ]
  },
  {
   "cell_type": "code",
   "execution_count": 17,
   "metadata": {},
   "outputs": [],
   "source": [
    "melody_chroma = model.lm.condition_provider.conditioners.self_wav._compute_wav_embedding(wavcon.wav, wavcon.sample_rate[0])"
   ]
  },
  {
   "cell_type": "code",
   "execution_count": 18,
   "metadata": {},
   "outputs": [],
   "source": [
    "stemmed_wav = model.lm.condition_provider.conditioners.self_wav._get_stemmed_wav(wavcon.wav, wavcon.sample_rate[0])"
   ]
  },
  {
   "cell_type": "code",
   "execution_count": 19,
   "metadata": {},
   "outputs": [
    {
     "data": {
      "text/plain": [
       "torch.Size([1, 8193, 235])"
      ]
     },
     "execution_count": 19,
     "metadata": {},
     "output_type": "execute_result"
    }
   ],
   "source": [
    "spec = model.lm.condition_provider.conditioners.self_wav.chroma.spec(stemmed_wav.mean(1, keepdim=True)).squeeze(1)\n",
    "spec.shape"
   ]
  },
  {
   "cell_type": "code",
   "execution_count": 20,
   "metadata": {},
   "outputs": [
    {
     "data": {
      "text/plain": [
       "torch.Size([1, 12, 235])"
      ]
     },
     "execution_count": 20,
     "metadata": {},
     "output_type": "execute_result"
    }
   ],
   "source": [
    "raw_chroma = torch.einsum('cf,...ft->...ct', model.lm.condition_provider.conditioners.self_wav.chroma.fbanks, spec)\n",
    "raw_chroma.shape"
   ]
  },
  {
   "cell_type": "code",
   "execution_count": 21,
   "metadata": {},
   "outputs": [
    {
     "data": {
      "text/plain": [
       "torch.Size([1, 12, 235])"
      ]
     },
     "execution_count": 21,
     "metadata": {},
     "output_type": "execute_result"
    }
   ],
   "source": [
    "norm_chroma = torch.nn.functional.normalize(raw_chroma, p=model.lm.condition_provider.conditioners.self_wav.chroma.norm, dim=-2, eps=1e-6)\n",
    "norm_chroma.shape"
   ]
  },
  {
   "cell_type": "code",
   "execution_count": 22,
   "metadata": {},
   "outputs": [
    {
     "data": {
      "text/plain": [
       "torch.Size([12, 8193])"
      ]
     },
     "execution_count": 22,
     "metadata": {},
     "output_type": "execute_result"
    }
   ],
   "source": [
    "model.lm.condition_provider.conditioners.self_wav.chroma.fbanks.shape"
   ]
  },
  {
   "cell_type": "code",
   "execution_count": 23,
   "metadata": {},
   "outputs": [
    {
     "data": {
      "text/plain": [
       "<matplotlib.image.AxesImage at 0x7f129f921310>"
      ]
     },
     "execution_count": 23,
     "metadata": {},
     "output_type": "execute_result"
    },
    {
     "data": {
      "image/png": "[encoded data removed]",
      "text/plain": [
       "<Figure size 2000x200 with 1 Axes>"
      ]
     },
     "metadata": {},
     "output_type": "display_data"
    }
   ],
   "source": [
    "plt.figure(figsize = (20,2))\n",
    "plt.imshow(melody_chroma.squeeze(0).T.cpu().numpy(), origin='lower', interpolation='nearest')"
   ]
  },
  {
   "cell_type": "code",
   "execution_count": 24,
   "metadata": {},
   "outputs": [
    {
     "data": {
      "text/plain": [
       "<matplotlib.image.AxesImage at 0x7f1598d4c910>"
      ]
     },
     "execution_count": 24,
     "metadata": {},
     "output_type": "execute_result"
    },
    {
     "data": {
      "image/png": "[encoded data removed]",
      "text/plain": [
       "<Figure size 2000x200 with 1 Axes>"
      ]
     },
     "metadata": {},
     "output_type": "display_data"
    }
   ],
   "source": [
    "plt.figure(figsize = (20,2))\n",
    "plt.imshow(raw_chroma.squeeze(0).cpu().numpy(), origin='lower', interpolation='nearest')"
   ]
  },
  {
   "cell_type": "code",
   "execution_count": 68,
   "metadata": {},
   "outputs": [
    {
     "data": {
      "text/plain": [
       "<matplotlib.image.AxesImage at 0x7f133ff37a00>"
      ]
     },
     "execution_count": 68,
     "metadata": {},
     "output_type": "execute_result"
    },
    {
     "data": {
      "image/png": "[encoded data removed]",
      "text/plain": [
       "<Figure size 2000x200 with 1 Axes>"
      ]
     },
     "metadata": {},
     "output_type": "display_data"
    }
   ],
   "source": [
    "plt.figure(figsize = (20,2))\n",
    "plt.imshow(norm_chroma.squeeze(0).cpu().numpy(), origin='lower', interpolation='nearest')"
   ]
  },
  {
   "cell_type": "code",
   "execution_count": 170,
   "metadata": {},
   "outputs": [
    {
     "name": "stderr",
     "output_type": "stream",
     "text": [
      "[autoreload of audiocraft.modules.conditioners failed: Traceback (most recent call last):\n",
      "  File \"/home/sake/.local/share/virtualenvs/audiocraft-yxa8GELE/lib/python3.8/site-packages/IPython/extensions/autoreload.py\", line 273, in check\n",
      "    superreload(m, reload, self.old_objects)\n",
      "  File \"/home/sake/.local/share/virtualenvs/audiocraft-yxa8GELE/lib/python3.8/site-packages/IPython/extensions/autoreload.py\", line 471, in superreload\n",
      "    module = reload(module)\n",
      "  File \"/usr/lib/python3.8/importlib/__init__.py\", line 169, in reload\n",
      "    _bootstrap._exec(spec, module)\n",
      "  File \"<frozen importlib._bootstrap>\", line 604, in _exec\n",
      "  File \"<frozen importlib._bootstrap_external>\", line 844, in exec_module\n",
      "  File \"<frozen importlib._bootstrap_external>\", line 981, in get_code\n",
      "  File \"<frozen importlib._bootstrap_external>\", line 911, in source_to_code\n",
      "  File \"<frozen importlib._bootstrap>\", line 219, in _call_with_frames_removed\n",
      "  File \"/home/sake/audiocraft/audiocraft/modules/conditioners.py\", line 727\n",
      "    self.chroma = ChordExtractor(device = device, sample_rate=sample_rate, n_chroma=n_chroma, max_duration =).to(device)\n",
      "                                                                                                            ^\n",
      "SyntaxError: invalid syntax\n",
      "]\n"
     ]
    },
    {
     "data": {
      "text/plain": [
       "30"
      ]
     },
     "execution_count": 170,
     "metadata": {},
     "output_type": "execute_result"
    }
   ],
   "source": [
    "model.lm.condition_provider.conditioners.self_wav.duration"
   ]
  },
  {
   "cell_type": "markdown",
   "metadata": {},
   "source": [
    "------"
   ]
  },
  {
   "cell_type": "markdown",
   "metadata": {},
   "source": [
    "# Chord Recog"
   ]
  },
  {
   "cell_type": "code",
   "execution_count": 27,
   "metadata": {},
   "outputs": [],
   "source": [
    "from audiocraft.modules.btc.btc_model import *\n",
    "from audiocraft.modules.btc.utils.mir_eval_modules import audio_file_to_features, idx2chord, idx2voca_chord, get_audio_paths\n",
    "from audiocraft.modules.btc.utils import chords\n",
    "import os\n",
    "import librosa"
   ]
  },
  {
   "cell_type": "code",
   "execution_count": 28,
   "metadata": {},
   "outputs": [],
   "source": [
    "config = HParams.load(\"audiocraft/modules/btc/run_config.yaml\")"
   ]
  },
  {
   "cell_type": "code",
   "execution_count": 29,
   "metadata": {},
   "outputs": [],
   "source": [
    "device = 'cuda'"
   ]
  },
  {
   "cell_type": "code",
   "execution_count": 30,
   "metadata": {},
   "outputs": [],
   "source": [
    "config.feature['large_voca'] = True\n",
    "config.model['num_chords'] = 170\n",
    "model_file = 'audiocraft/modules/btc/test/btc_model_large_voca.pt'\n",
    "idx_to_chord = idx2voca_chord()"
   ]
  },
  {
   "cell_type": "code",
   "execution_count": 31,
   "metadata": {},
   "outputs": [],
   "source": [
    "btcmodel = BTC_model(config=config.model).to(device)"
   ]
  },
  {
   "cell_type": "code",
   "execution_count": 32,
   "metadata": {},
   "outputs": [],
   "source": [
    "if os.path.isfile(model_file):\n",
    "    checkpoint = torch.load(model_file)\n",
    "    mean = checkpoint['mean']\n",
    "    std = checkpoint['std']\n",
    "    btcmodel.load_state_dict(checkpoint['model'])\n",
    "    logger.info(\"restore model\")"
   ]
  },
  {
   "cell_type": "code",
   "execution_count": 33,
   "metadata": {},
   "outputs": [],
   "source": [
    "original_wav = librosa.resample(stemmed_wav.cpu().numpy(), orig_sr=sr, target_sr=config.mp3['song_hz'])"
   ]
  },
  {
   "cell_type": "code",
   "execution_count": 34,
   "metadata": {},
   "outputs": [
    {
     "data": {
      "text/plain": [
       "(661500,)"
      ]
     },
     "execution_count": 34,
     "metadata": {},
     "output_type": "execute_result"
    }
   ],
   "source": [
    "original_wav = original_wav.squeeze(0).squeeze(0)\n",
    "original_wav.shape"
   ]
  },
  {
   "cell_type": "code",
   "execution_count": 35,
   "metadata": {},
   "outputs": [],
   "source": [
    "sr = config.mp3['song_hz']"
   ]
  },
  {
   "cell_type": "code",
   "execution_count": 151,
   "metadata": {},
   "outputs": [],
   "source": [
    "currunt_sec_hz = 0\n",
    "while len(original_wav) > currunt_sec_hz + config.mp3['song_hz'] * config.mp3['inst_len']:\n",
    "    start_idx = int(currunt_sec_hz)\n",
    "    end_idx = int(currunt_sec_hz + config.mp3['song_hz'] * config.mp3['inst_len'])\n",
    "    tmp = librosa.cqt(original_wav[start_idx:end_idx], sr=sr, n_bins=config.feature['n_bins'], bins_per_octave=config.feature['bins_per_octave'], hop_length=config.feature['hop_length'])\n",
    "    if start_idx == 0:\n",
    "        feature = tmp\n",
    "    else:\n",
    "        feature = np.concatenate((feature, tmp), axis=1)\n",
    "    currunt_sec_hz = end_idx\n",
    "tmp = librosa.cqt(original_wav[currunt_sec_hz:], sr=sr, n_bins=config.feature['n_bins'], bins_per_octave=config.feature['bins_per_octave'], hop_length=config.feature['hop_length'])\n",
    "feature = np.concatenate((feature, tmp), axis=1)\n",
    "feature = np.log(np.abs(feature) + 1e-6)\n",
    "feature_per_second = config.mp3['inst_len'] / config.model['timestep']\n",
    "song_length_second = len(original_wav)/config.mp3['song_hz']"
   ]
  },
  {
   "cell_type": "code",
   "execution_count": 152,
   "metadata": {},
   "outputs": [
    {
     "data": {
      "text/plain": [
       "(144, 324)"
      ]
     },
     "execution_count": 152,
     "metadata": {},
     "output_type": "execute_result"
    }
   ],
   "source": [
    "feature.shape"
   ]
  },
  {
   "cell_type": "code",
   "execution_count": 153,
   "metadata": {},
   "outputs": [],
   "source": [
    "feature = feature.T"
   ]
  },
  {
   "cell_type": "code",
   "execution_count": 154,
   "metadata": {},
   "outputs": [
    {
     "data": {
      "text/plain": [
       "(324, 144)"
      ]
     },
     "execution_count": 154,
     "metadata": {},
     "output_type": "execute_result"
    }
   ],
   "source": [
    "feature.shape"
   ]
  },
  {
   "cell_type": "code",
   "execution_count": 155,
   "metadata": {},
   "outputs": [],
   "source": [
    "feature = (feature - mean)/std"
   ]
  },
  {
   "cell_type": "code",
   "execution_count": 157,
   "metadata": {},
   "outputs": [
    {
     "data": {
      "text/plain": [
       "(0.09259259259259259, 108)"
      ]
     },
     "execution_count": 157,
     "metadata": {},
     "output_type": "execute_result"
    }
   ],
   "source": [
    "time_unit = feature_per_second\n",
    "n_timestep = config.model['timestep']\n",
    "time_unit, n_timestep"
   ]
  },
  {
   "cell_type": "code",
   "execution_count": 158,
   "metadata": {},
   "outputs": [
    {
     "data": {
      "text/plain": [
       "(108, (432, 144), 4)"
      ]
     },
     "execution_count": 158,
     "metadata": {},
     "output_type": "execute_result"
    }
   ],
   "source": [
    "num_pad = n_timestep - (feature.shape[0] % n_timestep)\n",
    "feature = np.pad(feature, ((0, num_pad), (0, 0)), mode=\"constant\", constant_values=0)\n",
    "num_instance = feature.shape[0] // n_timestep\n",
    "num_pad, feature.shape, num_instance"
   ]
  },
  {
   "cell_type": "code",
   "execution_count": 159,
   "metadata": {},
   "outputs": [
    {
     "data": {
      "text/plain": [
       "numpy.ndarray"
      ]
     },
     "execution_count": 159,
     "metadata": {},
     "output_type": "execute_result"
    }
   ],
   "source": [
    "type(feature)"
   ]
  },
  {
   "cell_type": "code",
   "execution_count": 160,
   "metadata": {},
   "outputs": [],
   "source": [
    "#Single Batch\n",
    "\n",
    "start_time = 0.0\n",
    "lines = []\n",
    "with torch.no_grad():\n",
    "    btcmodel.eval()\n",
    "    feature = torch.tensor(feature, dtype=torch.float32).unsqueeze(0).to(device)\n",
    "    for t in range(num_instance):\n",
    "        self_attn_output, _ = btcmodel.self_attn_layers(feature[:, n_timestep * t:n_timestep * (t + 1), :])\n",
    "        prediction, _ = btcmodel.output_layer(self_attn_output)\n",
    "        prediction = prediction.squeeze()\n",
    "        for i in range(n_timestep):\n",
    "            if t == 0 and i == 0:\n",
    "                prev_chord = prediction[i].item()\n",
    "                continue\n",
    "            if prediction[i].item() != prev_chord:\n",
    "                lines.append(\n",
    "                    '%.3f %.3f %s\\n' % (start_time, time_unit * (n_timestep * t + i), idx_to_chord[prev_chord]))\n",
    "                start_time = time_unit * (n_timestep * t + i)\n",
    "                prev_chord = prediction[i].item()\n",
    "            if t == num_instance - 1 and i + num_pad == n_timestep:\n",
    "                if start_time != time_unit * (n_timestep * t + i):\n",
    "                    lines.append('%.3f %.3f %s\\n' % (start_time, time_unit * (n_timestep * t + i), idx_to_chord[prev_chord]))\n",
    "                break"
   ]
  },
  {
   "cell_type": "code",
   "execution_count": 161,
   "metadata": {},
   "outputs": [
    {
     "data": {
      "text/plain": [
       "['0.000 1.852 F\\n',\n",
       " '1.852 2.500 F:7\\n',\n",
       " '2.500 3.611 F\\n',\n",
       " '3.611 4.167 F:7\\n',\n",
       " '4.167 4.537 A#\\n',\n",
       " '4.537 5.185 D#\\n',\n",
       " '5.185 5.556 A#\\n',\n",
       " '5.556 6.852 F\\n',\n",
       " '6.852 7.407 A#\\n',\n",
       " '7.407 8.056 D#\\n',\n",
       " '8.056 9.444 F\\n',\n",
       " '9.444 10.000 A#\\n',\n",
       " '10.000 10.648 D#\\n',\n",
       " '10.648 10.926 A#\\n',\n",
       " '10.926 12.222 F\\n',\n",
       " '12.222 12.778 A#\\n',\n",
       " '12.778 13.333 D#\\n',\n",
       " '13.333 13.611 C\\n',\n",
       " '13.611 14.907 F\\n',\n",
       " '14.907 15.556 A#\\n',\n",
       " '15.556 15.833 D#\\n',\n",
       " '15.833 16.296 A#\\n',\n",
       " '16.296 17.500 F\\n',\n",
       " '17.500 18.148 A#\\n',\n",
       " '18.148 18.704 D#\\n',\n",
       " '18.704 18.796 E\\n',\n",
       " '18.796 20.000 F\\n',\n",
       " '20.000 20.278 N\\n',\n",
       " '20.278 20.463 A#\\n',\n",
       " '20.463 21.296 G:min\\n',\n",
       " '21.296 21.667 A#\\n',\n",
       " '21.667 22.870 F\\n',\n",
       " '22.870 23.611 A#\\n',\n",
       " '23.611 24.074 D#\\n',\n",
       " '24.074 24.167 F\\n',\n",
       " '24.167 30.000 F:7\\n']"
      ]
     },
     "execution_count": 161,
     "metadata": {},
     "output_type": "execute_result"
    }
   ],
   "source": [
    "lines"
   ]
  },
  {
   "cell_type": "code",
   "execution_count": 43,
   "metadata": {},
   "outputs": [
    {
     "data": {
      "text/plain": [
       "['0.000 1.852 F\\n',\n",
       " '1.852 2.500 F:7\\n',\n",
       " '2.500 3.611 F\\n',\n",
       " '3.611 4.167 F:7\\n',\n",
       " '4.167 4.537 A#\\n',\n",
       " '4.537 5.185 D#\\n',\n",
       " '5.185 5.556 A#\\n',\n",
       " '5.556 6.852 F\\n',\n",
       " '6.852 7.407 A#\\n',\n",
       " '7.407 8.056 D#\\n',\n",
       " '8.056 9.444 F\\n',\n",
       " '9.444 10.000 A#\\n',\n",
       " '10.000 10.648 D#\\n',\n",
       " '10.648 10.926 A#\\n',\n",
       " '10.926 12.222 F\\n',\n",
       " '12.222 12.778 A#\\n',\n",
       " '12.778 13.333 D#\\n',\n",
       " '13.333 13.611 C\\n',\n",
       " '13.611 14.907 F\\n',\n",
       " '14.907 15.556 A#\\n',\n",
       " '15.556 15.833 D#\\n',\n",
       " '15.833 16.296 A#\\n',\n",
       " '16.296 17.500 F\\n',\n",
       " '17.500 18.148 A#\\n',\n",
       " '18.148 18.704 D#\\n',\n",
       " '18.704 18.796 E\\n',\n",
       " '18.796 20.000 F\\n',\n",
       " '20.000 20.278 N\\n',\n",
       " '20.278 20.463 A#\\n',\n",
       " '20.463 21.296 G:min\\n',\n",
       " '21.296 21.667 A#\\n',\n",
       " '21.667 22.870 F\\n',\n",
       " '22.870 23.611 A#\\n',\n",
       " '23.611 24.074 D#\\n',\n",
       " '24.074 24.167 F\\n',\n",
       " '24.167 30.000 F:7\\n']"
      ]
     },
     "execution_count": 43,
     "metadata": {},
     "output_type": "execute_result"
    }
   ],
   "source": [
    "lines"
   ]
  },
  {
   "cell_type": "code",
   "execution_count": 162,
   "metadata": {},
   "outputs": [],
   "source": [
    "strlines = ''.join(lines)"
   ]
  },
  {
   "cell_type": "code",
   "execution_count": 163,
   "metadata": {},
   "outputs": [
    {
     "ename": "AttributeError",
     "evalue": "'Chords' object has no attribute 'Chords'",
     "output_type": "error",
     "traceback": [
      "\u001b[0;31m---------------------------------------------------------------------------\u001b[0m",
      "\u001b[0;31mAttributeError\u001b[0m                            Traceback (most recent call last)",
      "Cell \u001b[0;32mIn[163], line 1\u001b[0m\n\u001b[0;32m----> 1\u001b[0m chords \u001b[39m=\u001b[39m chords\u001b[39m.\u001b[39;49mChords()\n",
      "\u001b[0;31mAttributeError\u001b[0m: 'Chords' object has no attribute 'Chords'"
     ]
    }
   ],
   "source": [
    "chords = chords.Chords()"
   ]
  },
  {
   "cell_type": "code",
   "execution_count": 164,
   "metadata": {},
   "outputs": [
    {
     "data": {
      "text/plain": [
       "array([(4, 0, [1, 0, 0, 0, 1, 0, 0, 1, 0, 0, 0, 0],  True),\n",
       "       (5, 0, [1, 0, 0, 0, 1, 0, 0, 1, 0, 0, 0, 0],  True),\n",
       "       (0, 0, [1, 0, 0, 0, 1, 0, 0, 1, 0, 0, 0, 0],  True)],\n",
       "      dtype=[('root', '<i8'), ('bass', '<i8'), ('intervals', '<i8', (12,)), ('is_major', '?')])"
      ]
     },
     "execution_count": 164,
     "metadata": {},
     "output_type": "execute_result"
    }
   ],
   "source": [
    "crds = chords.chords('EbC')\n",
    "crds"
   ]
  },
  {
   "cell_type": "code",
   "execution_count": 166,
   "metadata": {},
   "outputs": [],
   "source": [
    "chroma = torch.zeros([235,12])"
   ]
  },
  {
   "cell_type": "code",
   "execution_count": 167,
   "metadata": {},
   "outputs": [],
   "source": [
    "timebin = 30/235"
   ]
  },
  {
   "cell_type": "code",
   "execution_count": 168,
   "metadata": {},
   "outputs": [],
   "source": [
    "for line in lines:\n",
    "    splits = line.split()\n",
    "    if len(splits) == 3:\n",
    "        s = splits[0]\n",
    "        e = splits[1]\n",
    "        l = splits[2]\n",
    "\n",
    "    crd = chords.chord(l)\n",
    "    \n",
    "    if crd[0] == -1:\n",
    "        multihot = torch.Tensor(crd[2])\n",
    "    else:\n",
    "        multihot = torch.concat([torch.Tensor(crd[2])[-crd[0]:],torch.Tensor(crd[2])[:-crd[0]]])\n",
    "    start_bin = round(float(s)/timebin)\n",
    "    end_bin = round(float(e)/timebin)\n",
    "    for j in range(start_bin,end_bin):\n",
    "        chroma[j]=multihot"
   ]
  },
  {
   "cell_type": "code",
   "execution_count": 169,
   "metadata": {},
   "outputs": [
    {
     "data": {
      "text/plain": [
       "<matplotlib.image.AxesImage at 0x7f133c39bc10>"
      ]
     },
     "execution_count": 169,
     "metadata": {},
     "output_type": "execute_result"
    },
    {
     "data": {
      "image/png": "[encoded data removed]",
      "text/plain": [
       "<Figure size 2000x200 with 1 Axes>"
      ]
     },
     "metadata": {},
     "output_type": "display_data"
    }
   ],
   "source": [
    "plt.figure(figsize = (20,2))\n",
    "plt.imshow(chroma.T, origin='lower', interpolation='nearest')"
   ]
  },
  {
   "cell_type": "code",
   "execution_count": null,
   "metadata": {},
   "outputs": [],
   "source": []
  }
 ],
 "metadata": {
  "kernelspec": {
   "display_name": "audiocraft-yxa8GELE",
   "language": "python",
   "name": "python3"
  },
  "language_info": {
   "codemirror_mode": {
    "name": "ipython",
    "version": 3
   },
   "file_extension": ".py",
   "mimetype": "text/x-python",
   "name": "python",
   "nbconvert_exporter": "python",
   "pygments_lexer": "ipython3",
   "version": "3.8.10"
  },
  "orig_nbformat": 4
 },
 "nbformat": 4,
 "nbformat_minor": 2
}
