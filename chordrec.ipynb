{
 "cells": [
  {
   "cell_type": "code",
   "execution_count": 1,
   "metadata": {},
   "outputs": [],
   "source": [
    "import numpy as np\n",
    "import torch"
   ]
  },
  {
   "cell_type": "code",
   "execution_count": 2,
   "metadata": {},
   "outputs": [
    {
     "name": "stderr",
     "output_type": "stream",
     "text": [
      "/home/sake/.local/share/virtualenvs/MusicGen_Chord-oUf8QcxV/lib/python3.8/site-packages/tqdm/auto.py:21: TqdmWarning: IProgress not found. Please update jupyter and ipywidgets. See https://ipywidgets.readthedocs.io/en/stable/user_install.html\n",
      "  from .autonotebook import tqdm as notebook_tqdm\n"
     ]
    }
   ],
   "source": [
    "from audiocraft.modules.btc.utils import chords"
   ]
  },
  {
   "cell_type": "code",
   "execution_count": 3,
   "metadata": {},
   "outputs": [],
   "source": [
    "chords = chords.Chords()"
   ]
  },
  {
   "cell_type": "code",
   "execution_count": 4,
   "metadata": {},
   "outputs": [],
   "source": [
    "chroma_len = 235\n",
    "n_chroma = 12\n",
    "sample_rate = 32000\n",
    "hop_size = 4096\n",
    "\n",
    "bar2chromabin = sample_rate/hop_size\n",
    "\n",
    "bpm = 137\n",
    "in_triple = False\n",
    "bpm_div = 3 if in_triple else 4\n",
    "\n",
    "barsec = 60/(bpm/bpm_div)\n",
    "\n",
    "timebin = barsec * bar2chromabin\n",
    "rounded_timebin = round(timebin)\n"
   ]
  },
  {
   "cell_type": "code",
   "execution_count": 5,
   "metadata": {},
   "outputs": [
    {
     "data": {
      "text/plain": [
       "(13.686131386861314, 17.170666666666666)"
      ]
     },
     "execution_count": 5,
     "metadata": {},
     "output_type": "execute_result"
    }
   ],
   "source": [
    "timebin, chroma_len/timebin"
   ]
  },
  {
   "cell_type": "code",
   "execution_count": 6,
   "metadata": {},
   "outputs": [
    {
     "data": {
      "text/plain": [
       "['C', 'G', 'Amin', 'F', 'C', 'G', 'F', 'C,Amin']"
      ]
     },
     "execution_count": 6,
     "metadata": {},
     "output_type": "execute_result"
    }
   ],
   "source": [
    "text = \"C G Amin F C G F C,Amin\"\n",
    "stext = text.split(\" \")\n",
    "stext"
   ]
  },
  {
   "cell_type": "code",
   "execution_count": 7,
   "metadata": {},
   "outputs": [
    {
     "data": {
      "text/plain": [
       "['C']"
      ]
     },
     "execution_count": 7,
     "metadata": {},
     "output_type": "execute_result"
    }
   ],
   "source": [
    "stext[0].split(',')"
   ]
  },
  {
   "cell_type": "code",
   "execution_count": 8,
   "metadata": {},
   "outputs": [
    {
     "data": {
      "text/plain": [
       "['C', 'Amin']"
      ]
     },
     "execution_count": 8,
     "metadata": {},
     "output_type": "execute_result"
    }
   ],
   "source": [
    "stext[-1].split(',')"
   ]
  },
  {
   "cell_type": "code",
   "execution_count": 16,
   "metadata": {},
   "outputs": [
    {
     "name": "stdout",
     "output_type": "stream",
     "text": [
      "14\n",
      "13\n",
      "14\n",
      "14\n",
      "13\n",
      "14\n",
      "14\n",
      "6\n",
      "7\n",
      "14\n",
      "13\n",
      "14\n",
      "14\n",
      "13\n",
      "14\n",
      "14\n",
      "6\n",
      "7\n",
      "14\n",
      "13\n"
     ]
    },
    {
     "data": {
      "text/plain": [
       "(tensor([[1., 0., 0., 0., 1., 0., 0., 1., 0., 0., 0., 0.],\n",
       "         [1., 0., 0., 0., 1., 0., 0., 1., 0., 0., 0., 0.],\n",
       "         [1., 0., 0., 0., 1., 0., 0., 1., 0., 0., 0., 0.],\n",
       "         [1., 0., 0., 0., 1., 0., 0., 1., 0., 0., 0., 0.],\n",
       "         [1., 0., 0., 0., 1., 0., 0., 1., 0., 0., 0., 0.],\n",
       "         [1., 0., 0., 0., 1., 0., 0., 1., 0., 0., 0., 0.],\n",
       "         [1., 0., 0., 0., 1., 0., 0., 1., 0., 0., 0., 0.],\n",
       "         [1., 0., 0., 0., 1., 0., 0., 1., 0., 0., 0., 0.],\n",
       "         [1., 0., 0., 0., 1., 0., 0., 1., 0., 0., 0., 0.],\n",
       "         [1., 0., 0., 0., 1., 0., 0., 1., 0., 0., 0., 0.],\n",
       "         [1., 0., 0., 0., 1., 0., 0., 1., 0., 0., 0., 0.],\n",
       "         [1., 0., 0., 0., 1., 0., 0., 1., 0., 0., 0., 0.],\n",
       "         [0., 0., 1., 0., 0., 0., 0., 1., 0., 0., 0., 1.],\n",
       "         [0., 0., 1., 0., 0., 0., 0., 1., 0., 0., 0., 1.],\n",
       "         [0., 0., 1., 0., 0., 0., 0., 1., 0., 0., 0., 1.]]),\n",
       " torch.Size([235, 12]),\n",
       " 235)"
      ]
     },
     "execution_count": 16,
     "metadata": {},
     "output_type": "execute_result"
    }
   ],
   "source": [
    "chroma = torch.zeros([chroma_len, n_chroma])\n",
    "count = 0\n",
    "offset = 0\n",
    "\n",
    "while count < chroma_len:\n",
    "    for tokens in stext:\n",
    "        if count >= chroma_len: \n",
    "            break\n",
    "        stoken = tokens.split(',')\n",
    "        for token in stoken:\n",
    "            off_timebin = timebin + offset\n",
    "            rounded_timebin = round(off_timebin)\n",
    "            offset = off_timebin - rounded_timebin\n",
    "            offset = offset/len(stoken)\n",
    "            add_step = rounded_timebin//len(stoken)\n",
    "            print(add_step)\n",
    "            mhot = chords.chord(token)\n",
    "            rolled = np.roll(mhot[2], mhot[0])\n",
    "            for i in range(count, count + add_step):\n",
    "                if count >= chroma_len: \n",
    "                    break\n",
    "                chroma[i] = torch.Tensor(rolled)\n",
    "                count += 1\n",
    "chroma[-15:], chroma.shape, count"
   ]
  },
  {
   "cell_type": "code",
   "execution_count": null,
   "metadata": {},
   "outputs": [],
   "source": []
  },
  {
   "cell_type": "code",
   "execution_count": null,
   "metadata": {},
   "outputs": [],
   "source": [
    "temp_chroma = torch.Tensor(rolled).repeat(rounded_timebin,1)\n",
    "temp_chroma, temp_chroma.shape"
   ]
  },
  {
   "cell_type": "code",
   "execution_count": null,
   "metadata": {},
   "outputs": [],
   "source": [
    "chroma = torch.zeros([chroma_len,n_chroma])\n",
    "\n",
    "count = 0\n",
    "for line in lines:\n",
    "    if count >= chroma_len: \n",
    "        break\n",
    "    splits = line.split()\n",
    "    if len(splits) == 3:\n",
    "        s = splits[0]\n",
    "        e = splits[1]\n",
    "        l = splits[2]\n",
    "\n",
    "    crd = chords.chord(l)\n",
    "    \n",
    "    if crd[0] == -1:\n",
    "        multihot = torch.Tensor(crd[2])\n",
    "    else:\n",
    "        multihot = torch.concat([torch.Tensor(crd[2])[-crd[0]:],torch.Tensor(crd[2])[:-crd[0]]])\n",
    "    start_bin = round(float(s)/self.timebin)\n",
    "    end_bin = round(float(e)/self.timebin)\n",
    "    for j in range(start_bin,end_bin):\n",
    "        if count >= self.chroma_len: \n",
    "            break\n",
    "        chroma[j]=multihot\n",
    "        count += 1\n",
    "\n",
    "chromas.append(torch.Tensor(chroma))\n",
    "\n",
    "return torch.stack(chromas, dim=0).to(self.device)"
   ]
  },
  {
   "cell_type": "code",
   "execution_count": null,
   "metadata": {},
   "outputs": [],
   "source": [
    "chroma = torch.zeros([self.chroma_len,self.n_chroma])\n",
    "\n",
    "count = 0\n",
    "for line in lines:\n",
    "    if count >= self.chroma_len: \n",
    "        break\n",
    "    splits = line.split()\n",
    "    if len(splits) == 3:\n",
    "        s = splits[0]\n",
    "        e = splits[1]\n",
    "        l = splits[2]\n",
    "\n",
    "    crd = self.chords.chord(l)\n",
    "    \n",
    "    if crd[0] == -1:\n",
    "        multihot = torch.Tensor(crd[2])\n",
    "    else:\n",
    "        multihot = torch.concat([torch.Tensor(crd[2])[-crd[0]:],torch.Tensor(crd[2])[:-crd[0]]])\n",
    "    start_bin = round(float(s)/self.timebin)\n",
    "    end_bin = round(float(e)/self.timebin)\n",
    "    for j in range(start_bin,end_bin):\n",
    "        if count >= self.chroma_len: \n",
    "            break\n",
    "        chroma[j]=multihot\n",
    "        count += 1\n",
    "\n",
    "chromas.append(torch.Tensor(chroma))\n",
    "\n",
    "return torch.stack(chromas, dim=0).to(self.device)"
   ]
  },
  {
   "cell_type": "code",
   "execution_count": null,
   "metadata": {},
   "outputs": [],
   "source": []
  },
  {
   "cell_type": "code",
   "execution_count": 15,
   "metadata": {},
   "outputs": [
    {
     "data": {
      "text/plain": [
       "(-1, -1, array([0, 0, 0, 0, 0, 0, 0, 0, 0, 0, 0, 0]), False)"
      ]
     },
     "execution_count": 15,
     "metadata": {},
     "output_type": "execute_result"
    }
   ],
   "source": [
    "chords.chord('N')"
   ]
  }
 ],
 "metadata": {
  "kernelspec": {
   "display_name": "MusicGen_Chord-oUf8QcxV",
   "language": "python",
   "name": "python3"
  },
  "language_info": {
   "codemirror_mode": {
    "name": "ipython",
    "version": 3
   },
   "file_extension": ".py",
   "mimetype": "text/x-python",
   "name": "python",
   "nbconvert_exporter": "python",
   "pygments_lexer": "ipython3",
   "version": "3.8.10"
  },
  "orig_nbformat": 4
 },
 "nbformat": 4,
 "nbformat_minor": 2
}
